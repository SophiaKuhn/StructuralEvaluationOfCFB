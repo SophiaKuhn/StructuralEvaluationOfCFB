{
 "cells": [
  {
   "cell_type": "markdown",
   "id": "d35480d6",
   "metadata": {},
   "source": [
    "# Extract analysis results and perform verifications\n",
    "\n",
    "This script reads out specified values form the result dict of each structure of a sampling iteration and saves the results in a df.\n",
    "\n",
    "From the read out strains and stresses the minimum structural safety $\\eta$ (\"Erfüllungsgrad\") are calculated for each structure.\n",
    "\n",
    "Then the calculated verification results and the corresponding bridge parameter are saved in a csv-file.."
   ]
  },
  {
   "cell_type": "code",
   "execution_count": 1,
   "id": "75f3078f",
   "metadata": {},
   "outputs": [],
   "source": [
    "#import packages\n",
    "import pandas as pd\n",
    "import os"
   ]
  },
  {
   "cell_type": "markdown",
   "id": "66803db4",
   "metadata": {},
   "source": [
    "## Batch Evaluation"
   ]
  },
  {
   "cell_type": "code",
   "execution_count": 2,
   "id": "41a9c998",
   "metadata": {},
   "outputs": [
    {
     "name": "stdout",
     "output_type": "stream",
     "text": [
      "There were 0 Structured that resulted in an error during analysis. (Error IDs: [])\n"
     ]
    }
   ],
   "source": [
    "# Input HERE\n",
    "idx_s=91\n",
    "start_id = 0\n",
    "end_id = 0\n",
    "step='step_4'\n",
    "\n",
    "#calculation \n",
    "# from verification import calc_eta\n",
    "\n",
    "from verification_verification_integration import calc_eta\n",
    "df_res= calc_eta(idx_s, start_id, end_id, step, extract_from ='results', folder_name='CFBData', with_eta_stresses=True, verbalise=False)"
   ]
  },
  {
   "cell_type": "code",
   "execution_count": 3,
   "id": "3ad4158a",
   "metadata": {},
   "outputs": [
    {
     "data": {
      "text/html": [
       "<div>\n",
       "<style scoped>\n",
       "    .dataframe tbody tr th:only-of-type {\n",
       "        vertical-align: middle;\n",
       "    }\n",
       "\n",
       "    .dataframe tbody tr th {\n",
       "        vertical-align: top;\n",
       "    }\n",
       "\n",
       "    .dataframe thead th {\n",
       "        text-align: right;\n",
       "    }\n",
       "</style>\n",
       "<table border=\"1\" class=\"dataframe\">\n",
       "  <thead>\n",
       "    <tr style=\"text-align: right;\">\n",
       "      <th></th>\n",
       "      <th>eta_min_s</th>\n",
       "      <th>x_s</th>\n",
       "      <th>y_s</th>\n",
       "      <th>z_s</th>\n",
       "      <th>Location_s</th>\n",
       "      <th>GP_count_s</th>\n",
       "      <th>eta_min_c</th>\n",
       "      <th>x_c</th>\n",
       "      <th>y_c</th>\n",
       "      <th>z_c</th>\n",
       "      <th>...</th>\n",
       "      <th>y_c_shear</th>\n",
       "      <th>z_c_shear</th>\n",
       "      <th>Location_c_shear</th>\n",
       "      <th>element_count_shear</th>\n",
       "      <th>eta_min_c_stresses</th>\n",
       "      <th>x_c_stresses</th>\n",
       "      <th>y_c_stresses</th>\n",
       "      <th>z_c_stresses</th>\n",
       "      <th>Location_c_stresses</th>\n",
       "      <th>ID</th>\n",
       "    </tr>\n",
       "  </thead>\n",
       "  <tbody>\n",
       "    <tr>\n",
       "      <th>0</th>\n",
       "      <td>1.80599</td>\n",
       "      <td>75.316185</td>\n",
       "      <td>5118.916016</td>\n",
       "      <td>-352.941162</td>\n",
       "      <td>eta_4</td>\n",
       "      <td>0</td>\n",
       "      <td>4.567209</td>\n",
       "      <td>75.316185</td>\n",
       "      <td>2593.998535</td>\n",
       "      <td>-352.941162</td>\n",
       "      <td>...</td>\n",
       "      <td>178.2</td>\n",
       "      <td>0.0</td>\n",
       "      <td>bot</td>\n",
       "      <td>37</td>\n",
       "      <td>2.564345</td>\n",
       "      <td>75.316185</td>\n",
       "      <td>2593.998535</td>\n",
       "      <td>-352.941162</td>\n",
       "      <td>eta_y_top_stresses</td>\n",
       "      <td>0</td>\n",
       "    </tr>\n",
       "  </tbody>\n",
       "</table>\n",
       "<p>1 rows × 24 columns</p>\n",
       "</div>"
      ],
      "text/plain": [
       "   eta_min_s        x_s          y_s         z_s Location_s  GP_count_s  \\\n",
       "0    1.80599  75.316185  5118.916016 -352.941162      eta_4           0   \n",
       "\n",
       "   eta_min_c        x_c          y_c         z_c  ... y_c_shear  z_c_shear  \\\n",
       "0   4.567209  75.316185  2593.998535 -352.941162  ...     178.2        0.0   \n",
       "\n",
       "   Location_c_shear  element_count_shear  eta_min_c_stresses  x_c_stresses  \\\n",
       "0               bot                   37            2.564345     75.316185   \n",
       "\n",
       "  y_c_stresses  z_c_stresses  Location_c_stresses  ID  \n",
       "0  2593.998535   -352.941162   eta_y_top_stresses   0  \n",
       "\n",
       "[1 rows x 24 columns]"
      ]
     },
     "execution_count": 3,
     "metadata": {},
     "output_type": "execute_result"
    }
   ],
   "source": [
    "#print\n",
    "df_res"
   ]
  },
  {
   "cell_type": "code",
   "execution_count": 4,
   "id": "26dc18a9",
   "metadata": {},
   "outputs": [],
   "source": [
    "#saving calclulated etas in csv-file\n",
    "folder_name='CFBData'\n",
    "current_directory = os.getcwd()\n",
    "folder_path = os.path.join(current_directory, folder_name)\n",
    "filepath=folder_path+'\\\\{}_Batch\\\\{}_CFB_evaluations.csv'.format(idx_s,idx_s)\n",
    "\n",
    "df_res.to_csv(filepath,index=True)"
   ]
  },
  {
   "cell_type": "code",
   "execution_count": 5,
   "id": "cefbdf97",
   "metadata": {},
   "outputs": [
    {
     "data": {
      "text/html": [
       "<div>\n",
       "<style scoped>\n",
       "    .dataframe tbody tr th:only-of-type {\n",
       "        vertical-align: middle;\n",
       "    }\n",
       "\n",
       "    .dataframe tbody tr th {\n",
       "        vertical-align: top;\n",
       "    }\n",
       "\n",
       "    .dataframe thead th {\n",
       "        text-align: right;\n",
       "    }\n",
       "</style>\n",
       "<table border=\"1\" class=\"dataframe\">\n",
       "  <thead>\n",
       "    <tr style=\"text-align: right;\">\n",
       "      <th></th>\n",
       "      <th>ID</th>\n",
       "      <th>L</th>\n",
       "      <th>b1</th>\n",
       "      <th>t_p</th>\n",
       "      <th>t_w</th>\n",
       "      <th>h_w</th>\n",
       "      <th>alpha_l</th>\n",
       "      <th>h_v</th>\n",
       "      <th>l_v</th>\n",
       "      <th>oo</th>\n",
       "      <th>...</th>\n",
       "      <th>x_c</th>\n",
       "      <th>y_c</th>\n",
       "      <th>z_c</th>\n",
       "      <th>Location_c</th>\n",
       "      <th>GP_count_c</th>\n",
       "      <th>eta_min_c_stresses</th>\n",
       "      <th>x_c_stresses</th>\n",
       "      <th>y_c_stresses</th>\n",
       "      <th>z_c_stresses</th>\n",
       "      <th>Location_c_stresses</th>\n",
       "    </tr>\n",
       "  </thead>\n",
       "  <tbody>\n",
       "    <tr>\n",
       "      <th>0</th>\n",
       "      <td>0</td>\n",
       "      <td>5800</td>\n",
       "      <td>9720</td>\n",
       "      <td>400</td>\n",
       "      <td>400</td>\n",
       "      <td>2780</td>\n",
       "      <td>90</td>\n",
       "      <td>0</td>\n",
       "      <td>0</td>\n",
       "      <td>30</td>\n",
       "      <td>...</td>\n",
       "      <td>75.316185</td>\n",
       "      <td>2593.998535</td>\n",
       "      <td>-352.941162</td>\n",
       "      <td>eta_3_top</td>\n",
       "      <td>0</td>\n",
       "      <td>2.564345</td>\n",
       "      <td>75.316185</td>\n",
       "      <td>2593.998535</td>\n",
       "      <td>-352.941162</td>\n",
       "      <td>eta_y_top_stresses</td>\n",
       "    </tr>\n",
       "  </tbody>\n",
       "</table>\n",
       "<p>1 rows × 63 columns</p>\n",
       "</div>"
      ],
      "text/plain": [
       "   ID     L    b1  t_p  t_w   h_w  alpha_l  h_v  l_v  oo  ...        x_c  \\\n",
       "0   0  5800  9720  400  400  2780       90    0    0  30  ...  75.316185   \n",
       "\n",
       "           y_c         z_c  Location_c  GP_count_c  eta_min_c_stresses  \\\n",
       "0  2593.998535 -352.941162   eta_3_top           0            2.564345   \n",
       "\n",
       "   x_c_stresses  y_c_stresses  z_c_stresses  Location_c_stresses  \n",
       "0     75.316185   2593.998535   -352.941162   eta_y_top_stresses  \n",
       "\n",
       "[1 rows x 63 columns]"
      ]
     },
     "execution_count": 5,
     "metadata": {},
     "output_type": "execute_result"
    }
   ],
   "source": [
    "#merge x and y df and save them too\n",
    "current_directory = os.getcwd()\n",
    "\n",
    "y_file_name='CFBData\\\\{}_Batch\\\\{}_CFB_evaluations.csv'.format(idx_s,idx_s)\n",
    "y_file_path = os.path.join(current_directory, y_file_name)\n",
    "df_y=pd.read_csv(y_file_path).drop(columns=['Unnamed: 0'])\n",
    "\n",
    "x_file_name='CFBData\\\\{}_Batch\\\\{}_CFBSamples.csv'.format(idx_s,idx_s)\n",
    "x_file_path = os.path.join(current_directory, x_file_name)\n",
    "df_x=pd.read_csv(x_file_path).rename(columns={'Unnamed: 0':'ID'})\n",
    "\n",
    "df_xy = pd.merge(df_x, df_y, on='ID', how='inner')\n",
    "\n",
    "filepath=folder_path+'\\\\{}_Batch\\\\{}_CFB_xy.csv'.format(idx_s,idx_s)\n",
    "df_xy.to_csv(filepath,index=True)\n",
    "\n",
    "df_xy"
   ]
  },
  {
   "cell_type": "markdown",
   "id": "ac93f212",
   "metadata": {},
   "source": [
    "## Exploring an individual results dict\n"
   ]
  },
  {
   "cell_type": "code",
   "execution_count": null,
   "id": "4ea53da2",
   "metadata": {},
   "outputs": [],
   "source": [
    "# Input HERE\n",
    "idx_s=1\n",
    "id = 0\n",
    "step='step_4'"
   ]
  },
  {
   "cell_type": "code",
   "execution_count": null,
   "id": "292f880a",
   "metadata": {},
   "outputs": [],
   "source": [
    "#load results dict\n",
    "from verification import get_results\n",
    "results=get_results(idx_s, id, step=None)"
   ]
  },
  {
   "cell_type": "code",
   "execution_count": null,
   "id": "ecb72e03",
   "metadata": {},
   "outputs": [],
   "source": [
    "results"
   ]
  },
  {
   "cell_type": "code",
   "execution_count": null,
   "id": "57ce3e6e",
   "metadata": {},
   "outputs": [],
   "source": [
    "#print available keys of the dict\n",
    "results[step]['GP'].keys()"
   ]
  },
  {
   "cell_type": "code",
   "execution_count": null,
   "id": "543fb836",
   "metadata": {},
   "outputs": [],
   "source": [
    "#specific discplacement\n",
    "results[step]['nodal']['uz']['20']"
   ]
  },
  {
   "cell_type": "code",
   "execution_count": null,
   "id": "2b3c74c9",
   "metadata": {},
   "outputs": [],
   "source": [
    "#specific stresses\n",
    "results[step]['GP']['sig_sr_1L_x']['99']"
   ]
  },
  {
   "cell_type": "code",
   "execution_count": null,
   "id": "b5da3e3b",
   "metadata": {},
   "outputs": [],
   "source": [
    "#calculating specific etas\n",
    "from verification import *\n",
    "concrete_bending_verification_stresses(structure=None, results = results, step=step, return_type='dict', verbalise=True)"
   ]
  },
  {
   "cell_type": "markdown",
   "id": "d3951639",
   "metadata": {},
   "source": [
    "## Check Valdiation functions"
   ]
  },
  {
   "cell_type": "code",
   "execution_count": null,
   "id": "abac55d8",
   "metadata": {},
   "outputs": [],
   "source": [
    "# Input HERE\n",
    "idx_s=1\n",
    "id = 0\n",
    "step='step_4'"
   ]
  },
  {
   "cell_type": "code",
   "execution_count": null,
   "id": "cfc55f35",
   "metadata": {},
   "outputs": [],
   "source": [
    "#load results dict\n",
    "from verification import get_results\n",
    "results=get_results(idx_s, id, step)"
   ]
  },
  {
   "cell_type": "markdown",
   "id": "cd279ed9",
   "metadata": {},
   "source": [
    "#### Check reinforcement steel bending verification"
   ]
  },
  {
   "cell_type": "code",
   "execution_count": null,
   "id": "368bd9ea",
   "metadata": {},
   "outputs": [],
   "source": [
    "#calculate maximum stresses\n",
    "max_sig=[max(results['GP']['sig_sr_1L_x'].values()),\n",
    "         max(results['GP']['sig_sr_1L_y'].values()),\n",
    "         max(results['GP']['sig_sr_2L_x'].values()),\n",
    "         max(results['GP']['sig_sr_2L_y'].values()),\n",
    "         max(results['GP']['sig_sr_3L_x'].values()),\n",
    "         max(results['GP']['sig_sr_3L_y'].values()),\n",
    "         max(results['GP']['sig_sr_4L_x'].values()),\n",
    "         max(results['GP']['sig_sr_4L_y'].values()),\n",
    "]\n",
    "print(max_sig)"
   ]
  },
  {
   "cell_type": "code",
   "execution_count": null,
   "id": "80aa1a22",
   "metadata": {},
   "outputs": [],
   "source": [
    "#!!compare with calculated eta_min_s\n",
    "720/max(max_sig)"
   ]
  },
  {
   "cell_type": "markdown",
   "id": "f4ea11ac",
   "metadata": {},
   "source": [
    "#### Check concrete bending verification (strains)"
   ]
  },
  {
   "cell_type": "code",
   "execution_count": null,
   "id": "d52a936a",
   "metadata": {},
   "outputs": [],
   "source": [
    "#calculate minimum strains\n",
    "min_eps=[min(results['GP']['eps_1_bot'].values()),\n",
    "         min(results['GP']['eps_3_bot'].values()),\n",
    "         min(results['GP']['eps_1_top'].values()),\n",
    "         min(results['GP']['eps_3_top'].values())        \n",
    "]\n",
    "print(min_eps)"
   ]
  },
  {
   "cell_type": "code",
   "execution_count": null,
   "id": "de756796",
   "metadata": {},
   "outputs": [],
   "source": [
    "#!!compare with calculated eta_min_c\n",
    "-0.002/min(min_eps)"
   ]
  },
  {
   "cell_type": "markdown",
   "id": "ce466b30",
   "metadata": {},
   "source": [
    "#### Check concrete bending verification (stresses)"
   ]
  },
  {
   "cell_type": "code",
   "execution_count": null,
   "id": "d806fbc5",
   "metadata": {},
   "outputs": [],
   "source": [
    "#calculate maximum negative stresses (--> minimum stresses)\n",
    "# min_eps=[min(results['GP']['eps_1_bot'].values()),\n",
    "#          min(results['GP']['eps_3_bot'].values()),\n",
    "#          min(results['GP']['eps_1_top'].values()),\n",
    "#          min(results['GP']['eps_3_top'].values())        \n",
    "# ]\n",
    "# print(min_eps)"
   ]
  },
  {
   "cell_type": "code",
   "execution_count": null,
   "id": "3ed0d86e",
   "metadata": {},
   "outputs": [],
   "source": [
    "#!!compare with calculated eta_min_c_stresses\n",
    "# fcc_eff/sig_c\n",
    "# -0.002/min(min_eps)"
   ]
  },
  {
   "cell_type": "code",
   "execution_count": null,
   "id": "759b2695",
   "metadata": {},
   "outputs": [],
   "source": [
    "# results['GP']['fcc_eff_top'] "
   ]
  },
  {
   "cell_type": "code",
   "execution_count": null,
   "id": "24c52456",
   "metadata": {},
   "outputs": [],
   "source": [
    "# results['GP']['sig_x_top']"
   ]
  },
  {
   "cell_type": "code",
   "execution_count": null,
   "id": "5daebe10",
   "metadata": {},
   "outputs": [],
   "source": []
  },
  {
   "cell_type": "markdown",
   "id": "d0cf8109",
   "metadata": {},
   "source": [
    "## Plotting Runtimes"
   ]
  },
  {
   "cell_type": "code",
   "execution_count": null,
   "id": "1f4000ce",
   "metadata": {},
   "outputs": [],
   "source": [
    "#saving runtimes\n",
    "n_elements1=[2450.0, 1601.0, 1142.0, 947.0,  947.0, 947.0, 947.0, 947.0, 947.0, 947.0]\n",
    "analysis_time1=[1052.815,1011.080,649.90,633.543,632.563,637.594,641.200, 650.680, 650.564, 662.114] #seconds\n",
    "analysis_time1 = [element / 60 for element in analysis_time1] #minutes\n",
    "\n",
    "n_elements2= [362.0, 257.0,  206.0, 128.0, 128.0, 128.0,  128.0, 128.0,  128.0, 128.]\n",
    "analysis_time2=[83.119,92.788 ,102.771,84.002,88.768 ,82.442,85.991,87.115, 84.954, 84.954]\n",
    "analysis_time2 = [element / 60 for element in analysis_time2] #minutes\n",
    "\n",
    "n_elements3=[2756.0, 1835.0, 1232.0, 1028.0, 1028.0, 1028.0, 1028.0, 1028.0, 1028.0, 1028.0]\n",
    "analysis_time3=[1107.244,911.303, 570.685, 602.179, 594.138, 591.931, 593.499, 606.966, 603.610, 600.916]\n",
    "analysis_time3 = [element / 60 for element in analysis_time3] #minutes\n"
   ]
  },
  {
   "cell_type": "code",
   "execution_count": null,
   "id": "4e37d990",
   "metadata": {},
   "outputs": [],
   "source": [
    "import matplotlib.pyplot as plt\n",
    "\n",
    "fig, ax = plt.subplots()\n",
    "ax.plot(n_elements1, analysis_time1,label='L5800_parameterstudie (ms=1t)', marker='o', color='darkblue')\n",
    "ax.plot(n_elements2, analysis_time2,label='L5800_parameterstudie (ms=3t)', marker='X', color='blue')\n",
    "ax.plot(n_elements3, analysis_time3,label='L7000_parameterstudie (ms=1t)', marker='.', color='lightblue')\n",
    "\n",
    "\n",
    "ax.set(xlabel='number of elements', ylabel='analysis time [minutes]',\n",
    "       title='Runtime comparison')\n",
    "\n",
    "# ax.set_ylim(bottom=0,top=20)\n",
    "\n",
    "ax.grid()\n",
    "ax.legend()\n",
    "\n",
    "#fig.savefig(\"test.png\")\n",
    "plt.show()"
   ]
  },
  {
   "cell_type": "code",
   "execution_count": null,
   "metadata": {},
   "outputs": [],
   "source": []
  },
  {
   "cell_type": "code",
   "execution_count": null,
   "metadata": {},
   "outputs": [],
   "source": []
  },
  {
   "cell_type": "code",
   "execution_count": null,
   "metadata": {},
   "outputs": [],
   "source": []
  }
 ],
 "metadata": {
  "kernelspec": {
   "display_name": "Python 3 (ipykernel)",
   "language": "python",
   "name": "python3"
  },
  "language_info": {
   "codemirror_mode": {
    "name": "ipython",
    "version": 3
   },
   "file_extension": ".py",
   "mimetype": "text/x-python",
   "name": "python",
   "nbconvert_exporter": "python",
   "pygments_lexer": "ipython3",
   "version": "3.9.18"
  }
 },
 "nbformat": 4,
 "nbformat_minor": 5
}
