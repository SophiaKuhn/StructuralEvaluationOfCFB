{
 "cells": [
  {
   "cell_type": "code",
   "execution_count": 2,
   "metadata": {},
   "outputs": [
    {
     "name": "stdout",
     "output_type": "stream",
     "text": [
      "[ 200.          271.42857143  342.85714286  414.28571429  485.71428571\n",
      "  557.14285714  628.57142857  700.          771.42857143  842.85714286\n",
      "  914.28571429  985.71428571 1057.14285714 1128.57142857 1200.        ]\n"
     ]
    }
   ],
   "source": [
    "import numpy as np \n",
    "\n",
    "n_samples=15\n",
    "v=np.linspace(200., 1200., n_samples)\n",
    "print(v)"
   ]
  },
  {
   "cell_type": "code",
   "execution_count": 3,
   "metadata": {},
   "outputs": [
    {
     "name": "stdout",
     "output_type": "stream",
     "text": [
      "[ 200.          271.42857143  342.85714286  414.28571429  485.71428571\n",
      "  557.14285714  630.          700.          771.42857143  842.85714286\n",
      "  914.28571429  985.71428571 1057.14285714 1128.57142857 1200.        ]\n"
     ]
    }
   ],
   "source": [
    "v[6] = 630.\n",
    "print(v)"
   ]
  },
  {
   "cell_type": "code",
   "execution_count": 6,
   "metadata": {},
   "outputs": [
    {
     "data": {
      "text/plain": [
       "(15,)"
      ]
     },
     "execution_count": 6,
     "metadata": {},
     "output_type": "execute_result"
    }
   ],
   "source": [
    "np.shape(v)"
   ]
  },
  {
   "cell_type": "code",
   "execution_count": 7,
   "metadata": {},
   "outputs": [
    {
     "name": "stdout",
     "output_type": "stream",
     "text": [
      "[ True  True  True  True  True  True  True  True  True  True  True  True\n",
      "  True  True  True]\n"
     ]
    }
   ],
   "source": [
    "test = np.ones_like(v, dtype=bool)\n",
    "print(test)"
   ]
  },
  {
   "cell_type": "code",
   "execution_count": 8,
   "metadata": {},
   "outputs": [
    {
     "name": "stdout",
     "output_type": "stream",
     "text": [
      "[ True  True  True  True  True  True False  True  True  True  True  True\n",
      "  True  True  True]\n"
     ]
    }
   ],
   "source": [
    "test[6] = False\n",
    "print(test)"
   ]
  },
  {
   "cell_type": "code",
   "execution_count": 10,
   "metadata": {},
   "outputs": [
    {
     "name": "stdout",
     "output_type": "stream",
     "text": [
      "[ 200.          271.42857143  342.85714286  414.28571429  485.71428571\n",
      "  557.14285714  700.          771.42857143  842.85714286  914.28571429\n",
      "  985.71428571 1057.14285714 1128.57142857 1200.        ]\n"
     ]
    }
   ],
   "source": [
    "print(v[test])"
   ]
  }
 ],
 "metadata": {
  "kernelspec": {
   "display_name": "Python 3",
   "language": "python",
   "name": "python3"
  },
  "language_info": {
   "codemirror_mode": {
    "name": "ipython",
    "version": 3
   },
   "file_extension": ".py",
   "mimetype": "text/x-python",
   "name": "python",
   "nbconvert_exporter": "python",
   "pygments_lexer": "ipython3",
   "version": "3.9.19"
  }
 },
 "nbformat": 4,
 "nbformat_minor": 2
}
