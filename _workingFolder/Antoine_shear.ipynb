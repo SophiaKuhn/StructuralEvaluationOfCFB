{
 "cells": [
  {
   "cell_type": "code",
   "execution_count": 1,
   "metadata": {},
   "outputs": [],
   "source": [
    "import pandas as pd\n",
    "import os\n",
    "import json \n",
    "import pickle"
   ]
  },
  {
   "cell_type": "code",
   "execution_count": 2,
   "metadata": {},
   "outputs": [],
   "source": [
    "idx_s = 91\n",
    "ID = 0\n",
    "folder_name='CFBData'\n",
    "current_directory = os.getcwd()\n",
    "folder_path = os.path.join(current_directory, folder_name)\n",
    "step='step_4'\n",
    "\n",
    "\n",
    "filepath=folder_path+'\\\\{}_Batch\\\\{}_{}_CFB\\\\{}_{}_analysisResults.json'.format(idx_s,idx_s,ID,idx_s,ID)\n",
    "if os.path.exists(filepath):\n",
    "    with open(filepath, 'r') as file:\n",
    "        results = json.load(file)"
   ]
  },
  {
   "cell_type": "code",
   "execution_count": 3,
   "metadata": {},
   "outputs": [],
   "source": [
    "eta_v_dict=results[step]['element']['eta_v']\n",
    "eps_06d_loc_decisive_dict=results[step]['element']['eps_06d_loc_decisive']\n",
    "centroid_dict=results[step]['element']['centroid']"
   ]
  },
  {
   "cell_type": "code",
   "execution_count": 4,
   "metadata": {},
   "outputs": [],
   "source": [
    "df_eta = pd.DataFrame(list(eta_v_dict.items()), columns=['index', 'eta_v'])\n",
    "df_eta.set_index('index', inplace=True)\n",
    "\n",
    "df_eps = pd.DataFrame(list(eps_06d_loc_decisive_dict.items()), columns=['index', 'loc_decisive'])\n",
    "df_eps.set_index('index', inplace=True)\n",
    "\n",
    "df_cen = pd.DataFrame(centroid_dict.items(), columns=['index', 'values'])\n",
    "df_cen = pd.concat([df_cen['index'], df_cen['values'].apply(pd.Series)], axis=1)\n",
    "df_cen.columns = ['index', 'x', 'y', 'z']\n",
    "df_cen.set_index('index', inplace=True)\n"
   ]
  },
  {
   "cell_type": "code",
   "execution_count": 5,
   "metadata": {},
   "outputs": [
    {
     "data": {
      "text/html": [
       "<div>\n",
       "<style scoped>\n",
       "    .dataframe tbody tr th:only-of-type {\n",
       "        vertical-align: middle;\n",
       "    }\n",
       "\n",
       "    .dataframe tbody tr th {\n",
       "        vertical-align: top;\n",
       "    }\n",
       "\n",
       "    .dataframe thead th {\n",
       "        text-align: right;\n",
       "    }\n",
       "</style>\n",
       "<table border=\"1\" class=\"dataframe\">\n",
       "  <thead>\n",
       "    <tr style=\"text-align: right;\">\n",
       "      <th></th>\n",
       "      <th>eta_v</th>\n",
       "      <th>loc_decisive</th>\n",
       "      <th>x</th>\n",
       "      <th>y</th>\n",
       "      <th>z</th>\n",
       "    </tr>\n",
       "    <tr>\n",
       "      <th>index</th>\n",
       "      <th></th>\n",
       "      <th></th>\n",
       "      <th></th>\n",
       "      <th></th>\n",
       "      <th></th>\n",
       "    </tr>\n",
       "  </thead>\n",
       "  <tbody>\n",
       "    <tr>\n",
       "      <th>0</th>\n",
       "      <td>0.351826</td>\n",
       "      <td>bot</td>\n",
       "      <td>178.2</td>\n",
       "      <td>178.2</td>\n",
       "      <td>0.0</td>\n",
       "    </tr>\n",
       "    <tr>\n",
       "      <th>1</th>\n",
       "      <td>0.434970</td>\n",
       "      <td>bot</td>\n",
       "      <td>534.6</td>\n",
       "      <td>178.2</td>\n",
       "      <td>0.0</td>\n",
       "    </tr>\n",
       "    <tr>\n",
       "      <th>2</th>\n",
       "      <td>0.465942</td>\n",
       "      <td>bot</td>\n",
       "      <td>891.0</td>\n",
       "      <td>178.2</td>\n",
       "      <td>0.0</td>\n",
       "    </tr>\n",
       "    <tr>\n",
       "      <th>3</th>\n",
       "      <td>0.497645</td>\n",
       "      <td>bot</td>\n",
       "      <td>1247.4</td>\n",
       "      <td>178.2</td>\n",
       "      <td>0.0</td>\n",
       "    </tr>\n",
       "    <tr>\n",
       "      <th>4</th>\n",
       "      <td>0.534774</td>\n",
       "      <td>bot</td>\n",
       "      <td>1603.8</td>\n",
       "      <td>178.2</td>\n",
       "      <td>0.0</td>\n",
       "    </tr>\n",
       "    <tr>\n",
       "      <th>...</th>\n",
       "      <td>...</td>\n",
       "      <td>...</td>\n",
       "      <td>...</td>\n",
       "      <td>...</td>\n",
       "      <td>...</td>\n",
       "    </tr>\n",
       "    <tr>\n",
       "      <th>886</th>\n",
       "      <td>10.077709</td>\n",
       "      <td>top</td>\n",
       "      <td>8067.6</td>\n",
       "      <td>5400.0</td>\n",
       "      <td>-2415.5</td>\n",
       "    </tr>\n",
       "    <tr>\n",
       "      <th>887</th>\n",
       "      <td>10.129185</td>\n",
       "      <td>top</td>\n",
       "      <td>8434.8</td>\n",
       "      <td>5400.0</td>\n",
       "      <td>-2415.5</td>\n",
       "    </tr>\n",
       "    <tr>\n",
       "      <th>888</th>\n",
       "      <td>10.218995</td>\n",
       "      <td>top</td>\n",
       "      <td>8802.0</td>\n",
       "      <td>5400.0</td>\n",
       "      <td>-2415.5</td>\n",
       "    </tr>\n",
       "    <tr>\n",
       "      <th>889</th>\n",
       "      <td>10.232177</td>\n",
       "      <td>top</td>\n",
       "      <td>9169.2</td>\n",
       "      <td>5400.0</td>\n",
       "      <td>-2415.5</td>\n",
       "    </tr>\n",
       "    <tr>\n",
       "      <th>890</th>\n",
       "      <td>10.846337</td>\n",
       "      <td>top</td>\n",
       "      <td>9536.4</td>\n",
       "      <td>5400.0</td>\n",
       "      <td>-2415.5</td>\n",
       "    </tr>\n",
       "  </tbody>\n",
       "</table>\n",
       "<p>891 rows × 5 columns</p>\n",
       "</div>"
      ],
      "text/plain": [
       "           eta_v loc_decisive       x       y       z\n",
       "index                                                \n",
       "0       0.351826          bot   178.2   178.2     0.0\n",
       "1       0.434970          bot   534.6   178.2     0.0\n",
       "2       0.465942          bot   891.0   178.2     0.0\n",
       "3       0.497645          bot  1247.4   178.2     0.0\n",
       "4       0.534774          bot  1603.8   178.2     0.0\n",
       "...          ...          ...     ...     ...     ...\n",
       "886    10.077709          top  8067.6  5400.0 -2415.5\n",
       "887    10.129185          top  8434.8  5400.0 -2415.5\n",
       "888    10.218995          top  8802.0  5400.0 -2415.5\n",
       "889    10.232177          top  9169.2  5400.0 -2415.5\n",
       "890    10.846337          top  9536.4  5400.0 -2415.5\n",
       "\n",
       "[891 rows x 5 columns]"
      ]
     },
     "execution_count": 5,
     "metadata": {},
     "output_type": "execute_result"
    }
   ],
   "source": [
    "df = pd.concat([df_eta, df_eps, df_cen], axis=1)\n",
    "df"
   ]
  },
  {
   "cell_type": "code",
   "execution_count": 7,
   "metadata": {},
   "outputs": [],
   "source": [
    "new_bounds = df[(375 <= df[\"y\"]) & (df[\"y\"] <= 5025)]"
   ]
  },
  {
   "cell_type": "code",
   "execution_count": 10,
   "metadata": {},
   "outputs": [
    {
     "data": {
      "text/plain": [
       "eta_v           1.762332\n",
       "loc_decisive         bot\n",
       "x                  178.2\n",
       "y                 4865.4\n",
       "z                    0.0\n",
       "Name: 72, dtype: object"
      ]
     },
     "execution_count": 10,
     "metadata": {},
     "output_type": "execute_result"
    }
   ],
   "source": [
    "min_eta_index = new_bounds['eta_v'].idxmin()\n",
    "\n",
    "# Retrieve the row corresponding to the minimal value\n",
    "min_eta_row = new_bounds.loc[min_eta_index]\n",
    "min_eta_row"
   ]
  }
 ],
 "metadata": {
  "kernelspec": {
   "display_name": "strucenglib3",
   "language": "python",
   "name": "python3"
  },
  "language_info": {
   "codemirror_mode": {
    "name": "ipython",
    "version": 3
   },
   "file_extension": ".py",
   "mimetype": "text/x-python",
   "name": "python",
   "nbconvert_exporter": "python",
   "pygments_lexer": "ipython3",
   "version": "3.9.18"
  }
 },
 "nbformat": 4,
 "nbformat_minor": 2
}
